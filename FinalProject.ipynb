{
 "cells": [
  {
   "cell_type": "code",
   "execution_count": null,
   "metadata": {},
   "outputs": [],
   "source": []
  },
  {
   "cell_type": "markdown",
   "metadata": {},
   "source": [
    "<p style=\"text-align:center\">\n",
    "    <a href=\"https://skills.network\" target=\"_blank\">\n",
    "    <img src=\"https://cf-courses-data.s3.us.cloud-object-storage.appdomain.cloud/assets/logos/SN_web_lightmode.png\" width=\"200\" alt=\"Skills Network Logo\">\n",
    "    </a>\n",
    "</p>\n"
   ]
  },
  {
   "cell_type": "markdown",
   "metadata": {},
   "source": [
    "# Final Project: Data Analysis using Spark\n",
    "\n",
    "Estimated time needed: **60** minutes\n",
    "\n",
    "This final project is similar to the Practice Project you did. In this project, you will not be provided with hints or solutions. You will create a DataFrame by loading data from a CSV file and apply transformations and actions using Spark SQL. This needs to be achieved by performing the following tasks:\n",
    "\n",
    "- Task 1: Generate DataFrame from CSV data.\n",
    "- Task 2: Define a schema for the data.\n",
    "- Task 3: Display schema of DataFrame.\n",
    "- Task 4: Create a temporary view.\n",
    "- Task 5: Execute an SQL query.\n",
    "- Task 6: Calculate Average Salary by Department.\n",
    "- Task 7: Filter and Display IT Department Employees.\n",
    "- Task 8: Add 10% Bonus to Salaries.\n",
    "- Task 9: Find Maximum Salary by Age.\n",
    "- Task 10: Self-Join on Employee Data.\n",
    "- Task 11: Calculate Average Employee Age.\n",
    "- Task 12: Calculate Total Salary by Department.\n",
    "- Task 13: Sort Data by Age and Salary.\n",
    "- Task 14: Count Employees in Each Department.\n",
    "- Task 15: Filter Employees with the letter o in the Name.\n"
   ]
  },
  {
   "cell_type": "markdown",
   "metadata": {},
   "source": [
    "### Prerequisites \n",
    "\n",
    "1. For this lab assignment, you will be using Python and Spark (PySpark). Therefore, it's essential to make sure that the following libraries are installed in your lab environment or within Skills Network (SN) Labs\n"
   ]
  },
  {
   "cell_type": "code",
   "execution_count": 1,
   "metadata": {
    "tags": []
   },
   "outputs": [
    {
     "name": "stdout",
     "output_type": "stream",
     "text": [
      "Collecting pyspark\n",
      "  Downloading pyspark-3.4.2.tar.gz (311.1 MB)\n",
      "\u001b[2K     \u001b[90m━━━━━━━━━━━━━━━━━━━━━━━━━━━━━━━━━━━━━━━\u001b[0m \u001b[32m311.1/311.1 MB\u001b[0m \u001b[31m1.7 MB/s\u001b[0m eta \u001b[36m0:00:00\u001b[0m00:01\u001b[0m00:01\u001b[0m\n",
      "\u001b[?25h  Preparing metadata (setup.py) ... \u001b[?25ldone\n",
      "\u001b[?25hCollecting findspark\n",
      "  Downloading findspark-2.0.1-py2.py3-none-any.whl (4.4 kB)\n",
      "Requirement already satisfied: wget in /home/jupyterlab/conda/envs/python/lib/python3.7/site-packages (3.2)\n",
      "Collecting py4j==0.10.9.7 (from pyspark)\n",
      "  Downloading py4j-0.10.9.7-py2.py3-none-any.whl (200 kB)\n",
      "\u001b[2K     \u001b[90m━━━━━━━━━━━━━━━━━━━━━━━━━━━━━━━━━━━━━━\u001b[0m \u001b[32m200.5/200.5 kB\u001b[0m \u001b[31m36.0 MB/s\u001b[0m eta \u001b[36m0:00:00\u001b[0m\n",
      "\u001b[?25hBuilding wheels for collected packages: pyspark\n",
      "  Building wheel for pyspark (setup.py) ... \u001b[?25ldone\n",
      "\u001b[?25h  Created wheel for pyspark: filename=pyspark-3.4.2-py2.py3-none-any.whl size=311619841 sha256=8930743c6b999b638cd6d06c6831f1a248a573eb8dc43c205656838591bf5f10\n",
      "  Stored in directory: /home/jupyterlab/.cache/pip/wheels/c3/8a/ac/cd39777597318310141c8a783c06f516815a66194f100f96b6\n",
      "Successfully built pyspark\n",
      "Installing collected packages: py4j, findspark, pyspark\n",
      "Successfully installed findspark-2.0.1 py4j-0.10.9.7 pyspark-3.4.2\n"
     ]
    }
   ],
   "source": [
    "# Installing required packages  \n",
    "\n",
    "!pip install pyspark  findspark wget\n"
   ]
  },
  {
   "cell_type": "code",
   "execution_count": 3,
   "metadata": {
    "tags": []
   },
   "outputs": [],
   "source": [
    "import findspark\n",
    "\n",
    "findspark.init()"
   ]
  },
  {
   "cell_type": "code",
   "execution_count": 4,
   "metadata": {
    "tags": []
   },
   "outputs": [],
   "source": [
    "# PySpark is the Spark API for Python. In this lab, we use PySpark to initialize the SparkContext.   \n",
    "\n",
    "from pyspark import SparkContext, SparkConf\n",
    "\n",
    "from pyspark.sql import SparkSession"
   ]
  },
  {
   "cell_type": "code",
   "execution_count": 5,
   "metadata": {
    "tags": []
   },
   "outputs": [
    {
     "name": "stderr",
     "output_type": "stream",
     "text": [
      "24/02/22 07:58:46 WARN util.NativeCodeLoader: Unable to load native-hadoop library for your platform... using builtin-java classes where applicable\n",
      "Setting default log level to \"WARN\".\n",
      "To adjust logging level use sc.setLogLevel(newLevel). For SparkR, use setLogLevel(newLevel).\n"
     ]
    }
   ],
   "source": [
    "# Creating a SparkContext object  \n",
    "\n",
    "sc = SparkContext.getOrCreate()\n",
    "\n",
    "# Creating a SparkSession  \n",
    "\n",
    "spark = SparkSession \\\n",
    "    .builder \\\n",
    "    .appName(\"Python Spark DataFrames basic example\") \\\n",
    "    .config(\"spark.some.config.option\", \"some-value\") \\\n",
    "    .getOrCreate()"
   ]
  },
  {
   "cell_type": "markdown",
   "metadata": {},
   "source": [
    "2. Download the CSV data.  \n"
   ]
  },
  {
   "cell_type": "code",
   "execution_count": 6,
   "metadata": {
    "tags": []
   },
   "outputs": [
    {
     "data": {
      "text/plain": [
       "'employees.csv'"
      ]
     },
     "execution_count": 6,
     "metadata": {},
     "output_type": "execute_result"
    }
   ],
   "source": [
    "# Download the CSV data first into a local `employees.csv` file\n",
    "import wget\n",
    "wget.download(\"https://cf-courses-data.s3.us.cloud-object-storage.appdomain.cloud/IBM-BD0225EN-SkillsNetwork/data/employees.csv\")"
   ]
  },
  {
   "cell_type": "markdown",
   "metadata": {},
   "source": [
    "### Tasks\n"
   ]
  },
  {
   "cell_type": "markdown",
   "metadata": {},
   "source": [
    "#### Task 1: Generate a Spark DataFrame from the CSV data\n",
    "\n",
    "Read data from the provided CSV file, `employees.csv` and import it into a Spark DataFrame variable named `employees_df`.\n",
    "\n",
    " \n"
   ]
  },
  {
   "cell_type": "code",
   "execution_count": 7,
   "metadata": {
    "tags": []
   },
   "outputs": [
    {
     "name": "stderr",
     "output_type": "stream",
     "text": [
      "                                                                                \r"
     ]
    }
   ],
   "source": [
    "# Read data from the \"emp\" CSV file and import it into a DataFrame variable named \"employees_df\"  \n",
    "emplloyee_df = spark.read.csv(\"employees.csv\", header=True, inferSchema=True)"
   ]
  },
  {
   "cell_type": "markdown",
   "metadata": {},
   "source": [
    "#### Task 2: Define a schema for the data\n",
    "\n",
    "Construct a schema for the input data and then utilize the defined schema to read the CSV file to create a DataFrame named `employees_df`.  \n"
   ]
  },
  {
   "cell_type": "code",
   "execution_count": 9,
   "metadata": {
    "tags": []
   },
   "outputs": [],
   "source": [
    "# Define a Schema for the input data and read the file using the user-defined Schema\n",
    "from pyspark.sql.types import StructType, StructField, IntegerType, StringType, FloatType\n",
    "\n",
    "# Define the schema based on your column names and data types\n",
    "schema = StructType([\n",
    "    StructField(\"Emp_No\", IntegerType(), True),\n",
    "    StructField(\"Emp_Name\", StringType(), True),\n",
    "    StructField(\"Salary\", FloatType(), True),\n",
    "    StructField(\"Age\", IntegerType(), True),\n",
    "    StructField(\"Department\", StringType(), True)\n",
    "])\n",
    "\n",
    "# Read the CSV file into a DataFrame named employees_df\n",
    "employees_df = spark.read.format(\"csv\").schema(schema).option(\"header\", True).load(\"employees.csv\")\n",
    "\n",
    "# Print the schema of the DataFrame\n",
    "#employees_df.printSchema()\n"
   ]
  },
  {
   "cell_type": "markdown",
   "metadata": {},
   "source": [
    "#### Task 3: Display schema of DataFrame\n",
    "\n",
    "Display the schema of the `employees_df` DataFrame, showing all columns and their respective data types.  \n"
   ]
  },
  {
   "cell_type": "code",
   "execution_count": 10,
   "metadata": {
    "tags": []
   },
   "outputs": [
    {
     "name": "stdout",
     "output_type": "stream",
     "text": [
      "root\n",
      " |-- Emp_No: integer (nullable = true)\n",
      " |-- Emp_Name: string (nullable = true)\n",
      " |-- Salary: float (nullable = true)\n",
      " |-- Age: integer (nullable = true)\n",
      " |-- Department: string (nullable = true)\n",
      "\n"
     ]
    }
   ],
   "source": [
    "# Display all columns of the DataFrame, along with their respective data types\n",
    "employees_df.printSchema()"
   ]
  },
  {
   "cell_type": "markdown",
   "metadata": {},
   "source": [
    "#### Task 4: Create a temporary view\n",
    "\n",
    "Create a temporary view named `employees` for the `employees_df` DataFrame, enabling Spark SQL queries on the data. \n"
   ]
  },
  {
   "cell_type": "code",
   "execution_count": 11,
   "metadata": {
    "tags": []
   },
   "outputs": [],
   "source": [
    "# Create a temporary view named \"employees\" for the DataFrame\n",
    "# Create the temporary view using the DataFrame name and view name\n",
    "employees_df.createOrReplaceTempView(\"employees\")\n",
    "\n",
    "# Now you can perform Spark SQL queries on the 'employees' view\n",
    "#spark.sql(\"SELECT Emp_Name, Salary FROM employees WHERE Age > 30\").show()\n",
    "\n",
    "# To remove the temporary view after you're done\n",
    "# spark.sql(\"DROP VIEW employees\")\n"
   ]
  },
  {
   "cell_type": "markdown",
   "metadata": {},
   "source": [
    "#### Task 5: Execute an SQL query\n",
    "\n",
    "Compose and execute an SQL query to fetch the records from the `employees` view where the age of employees exceeds 30. Then, display the result of the SQL query, showcasing the filtered records.\n"
   ]
  },
  {
   "cell_type": "code",
   "execution_count": 12,
   "metadata": {
    "tags": []
   },
   "outputs": [
    {
     "name": "stdout",
     "output_type": "stream",
     "text": [
      "+-----------+\n",
      "|   Emp_Name|\n",
      "+-----------+\n",
      "|    Douglas|\n",
      "|   Jennifer|\n",
      "|    Michael|\n",
      "|        Pat|\n",
      "|      Susan|\n",
      "|    Shelley|\n",
      "|    William|\n",
      "|     Steven|\n",
      "|        Lex|\n",
      "|  Alexander|\n",
      "|      Bruce|\n",
      "|      David|\n",
      "|      Valli|\n",
      "|      Diana|\n",
      "|     Daniel|\n",
      "|       John|\n",
      "|     Ismael|\n",
      "|Jose Manuel|\n",
      "|       Luis|\n",
      "|     Shelli|\n",
      "+-----------+\n",
      "only showing top 20 rows\n",
      "\n"
     ]
    }
   ],
   "source": [
    "# SQL query to fetch solely the records from the View where the age exceeds 30\n",
    "spark.sql(\"SELECT Emp_Name FROM employees WHERE Age > 30\").show()"
   ]
  },
  {
   "cell_type": "markdown",
   "metadata": {},
   "source": [
    "#### Task 6: Calculate Average Salary by Department\n",
    "\n",
    "Compose an SQL query to retrieve the average salary of employees grouped by department. Display the result.\n"
   ]
  },
  {
   "cell_type": "code",
   "execution_count": 13,
   "metadata": {
    "tags": []
   },
   "outputs": [
    {
     "name": "stderr",
     "output_type": "stream",
     "text": [
      "[Stage 4:=====================================================> (195 + 5) / 200]"
     ]
    },
    {
     "name": "stdout",
     "output_type": "stream",
     "text": [
      "+----------+-----------------+\n",
      "|Department|   Average_Salary|\n",
      "+----------+-----------------+\n",
      "|   Finance|           5730.8|\n",
      "|        HR|           5837.5|\n",
      "|        IT|           7400.0|\n",
      "| Marketing|6633.333333333333|\n",
      "|     Sales|5492.923076923077|\n",
      "+----------+-----------------+\n",
      "\n"
     ]
    },
    {
     "name": "stderr",
     "output_type": "stream",
     "text": [
      "                                                                                \r"
     ]
    }
   ],
   "source": [
    "# SQL query to calculate the average salary of employees grouped by department\n",
    "\n",
    "spark.sql(\"SELECT Department, AVG(Salary) AS Average_Salary FROM employees GROUP BY Department ORDER BY Department ASC\").show()\n"
   ]
  },
  {
   "cell_type": "markdown",
   "metadata": {},
   "source": [
    "#### Task 7: Filter and Display IT Department Employees\n",
    "\n",
    "Apply a filter on the `employees_df` DataFrame to select records where the department is `'IT'`. Display the filtered DataFrame.\n"
   ]
  },
  {
   "cell_type": "code",
   "execution_count": 14,
   "metadata": {
    "tags": []
   },
   "outputs": [
    {
     "name": "stdout",
     "output_type": "stream",
     "text": [
      "+------+--------+-------+---+----------+\n",
      "|Emp_No|Emp_Name| Salary|Age|Department|\n",
      "+------+--------+-------+---+----------+\n",
      "|   198|  Donald| 2600.0| 29|        IT|\n",
      "|   201| Michael|13000.0| 32|        IT|\n",
      "|   206| William| 8300.0| 37|        IT|\n",
      "|   100|  Steven|24000.0| 39|        IT|\n",
      "|   104|   Bruce| 6000.0| 38|        IT|\n",
      "|   105|   David| 4800.0| 39|        IT|\n",
      "|   111|  Ismael| 7700.0| 32|        IT|\n",
      "|   129|   Laura| 3300.0| 38|        IT|\n",
      "|   132|      TJ| 2100.0| 34|        IT|\n",
      "|   136|   Hazel| 2200.0| 29|        IT|\n",
      "+------+--------+-------+---+----------+\n",
      "\n"
     ]
    }
   ],
   "source": [
    "# Apply a filter to select records where the department is 'IT'\n",
    "\n",
    "employees_df.createOrReplaceTempView(\"employees\")\n",
    "\n",
    "# Filter the view by department and display the results\n",
    "spark.sql(\"SELECT * FROM employees WHERE Department = 'IT'\").show()\n"
   ]
  },
  {
   "cell_type": "markdown",
   "metadata": {},
   "source": [
    "#### Task 8: Add 10% Bonus to Salaries\n",
    "\n",
    "Perform a transformation to add a new column named \"SalaryAfterBonus\" to the DataFrame. Calculate the new salary by adding a 10% bonus to each employee's salary.\n"
   ]
  },
  {
   "cell_type": "code",
   "execution_count": 15,
   "metadata": {
    "tags": []
   },
   "outputs": [
    {
     "name": "stdout",
     "output_type": "stream",
     "text": [
      "+------+---------+-------+---+----------+------------------+\n",
      "|Emp_No| Emp_Name| Salary|Age|Department|  SalaryAfterBonus|\n",
      "+------+---------+-------+---+----------+------------------+\n",
      "|   198|   Donald| 2600.0| 29|        IT|2860.0000000000005|\n",
      "|   199|  Douglas| 2600.0| 34|     Sales|2860.0000000000005|\n",
      "|   200| Jennifer| 4400.0| 36| Marketing|            4840.0|\n",
      "|   201|  Michael|13000.0| 32|        IT|14300.000000000002|\n",
      "|   202|      Pat| 6000.0| 39|        HR| 6600.000000000001|\n",
      "|   203|    Susan| 6500.0| 36| Marketing| 7150.000000000001|\n",
      "|   204|  Hermann|10000.0| 29|   Finance|           11000.0|\n",
      "|   205|  Shelley|12008.0| 33|   Finance|13208.800000000001|\n",
      "|   206|  William| 8300.0| 37|        IT|            9130.0|\n",
      "|   100|   Steven|24000.0| 39|        IT|26400.000000000004|\n",
      "|   101|    Neena|17000.0| 27|     Sales|           18700.0|\n",
      "|   102|      Lex|17000.0| 37| Marketing|           18700.0|\n",
      "|   103|Alexander| 9000.0| 39| Marketing|            9900.0|\n",
      "|   104|    Bruce| 6000.0| 38|        IT| 6600.000000000001|\n",
      "|   105|    David| 4800.0| 39|        IT|            5280.0|\n",
      "|   106|    Valli| 4800.0| 38|     Sales|            5280.0|\n",
      "|   107|    Diana| 4200.0| 35|     Sales|            4620.0|\n",
      "|   108|    Nancy|12008.0| 28|     Sales|13208.800000000001|\n",
      "|   109|   Daniel| 9000.0| 35|        HR|            9900.0|\n",
      "|   110|     John| 8200.0| 31| Marketing|            9020.0|\n",
      "+------+---------+-------+---+----------+------------------+\n",
      "only showing top 20 rows\n",
      "\n"
     ]
    }
   ],
   "source": [
    "from pyspark.sql.functions import col\n",
    "\n",
    "# Add a new column \"SalaryAfterBonus\" with 10% bonus added to the original salary\n",
    "# Create a temporary view if you haven't already\n",
    "employees_df.createOrReplaceTempView(\"employees\")\n",
    "\n",
    "# Add a new column with bonus using Spark SQL expressions\n",
    "spark.sql(\n",
    "    \"\"\"\n",
    "    SELECT *, Salary * 1.1 AS SalaryAfterBonus\n",
    "    FROM employees\n",
    "    \"\"\"\n",
    ").show()\n"
   ]
  },
  {
   "cell_type": "markdown",
   "metadata": {},
   "source": [
    "#### Task 9: Find Maximum Salary by Age\n",
    "\n",
    "Group the data by age and calculate the maximum salary for each age group. Display the result.\n"
   ]
  },
  {
   "cell_type": "code",
   "execution_count": 16,
   "metadata": {
    "tags": []
   },
   "outputs": [
    {
     "name": "stderr",
     "output_type": "stream",
     "text": [
      "[Stage 8:================================================>      (175 + 9) / 200]"
     ]
    },
    {
     "name": "stdout",
     "output_type": "stream",
     "text": [
      "+---+----------+\n",
      "|Age|Max_Salary|\n",
      "+---+----------+\n",
      "| 26|    3600.0|\n",
      "| 27|   17000.0|\n",
      "| 28|   12008.0|\n",
      "| 29|   10000.0|\n",
      "| 30|    8000.0|\n",
      "| 31|    8200.0|\n",
      "| 32|   13000.0|\n",
      "| 33|   12008.0|\n",
      "| 34|    7800.0|\n",
      "| 35|    9000.0|\n",
      "| 36|    7900.0|\n",
      "| 37|   17000.0|\n",
      "| 38|    6000.0|\n",
      "| 39|   24000.0|\n",
      "+---+----------+\n",
      "\n"
     ]
    },
    {
     "name": "stderr",
     "output_type": "stream",
     "text": [
      "                                                                                \r"
     ]
    }
   ],
   "source": [
    "from pyspark.sql.functions import max\n",
    "\n",
    "# Group data by age and calculate the maximum salary for each age group\n",
    "\n",
    "spark.sql(\"SELECT Age, MAX(Salary) AS Max_Salary FROM employees GROUP BY Age ORDER BY Age ASC\").show()\n"
   ]
  },
  {
   "cell_type": "markdown",
   "metadata": {},
   "source": [
    "#### Task 10: Self-Join on Employee Data\n",
    "\n",
    "Join the \"employees_df\" DataFrame with itself based on the \"Emp_No\" column. Display the result.\n"
   ]
  },
  {
   "cell_type": "code",
   "execution_count": 17,
   "metadata": {
    "tags": []
   },
   "outputs": [
    {
     "name": "stdout",
     "output_type": "stream",
     "text": [
      "+------+---------+-------+---+----------+------+---------+-------+---+----------+\n",
      "|Emp_No| Emp_Name| Salary|Age|Department|Emp_No| Emp_Name| Salary|Age|Department|\n",
      "+------+---------+-------+---+----------+------+---------+-------+---+----------+\n",
      "|   198|   Donald| 2600.0| 29|        IT|   198|   Donald| 2600.0| 29|        IT|\n",
      "|   199|  Douglas| 2600.0| 34|     Sales|   199|  Douglas| 2600.0| 34|     Sales|\n",
      "|   200| Jennifer| 4400.0| 36| Marketing|   200| Jennifer| 4400.0| 36| Marketing|\n",
      "|   201|  Michael|13000.0| 32|        IT|   201|  Michael|13000.0| 32|        IT|\n",
      "|   202|      Pat| 6000.0| 39|        HR|   202|      Pat| 6000.0| 39|        HR|\n",
      "|   203|    Susan| 6500.0| 36| Marketing|   203|    Susan| 6500.0| 36| Marketing|\n",
      "|   204|  Hermann|10000.0| 29|   Finance|   204|  Hermann|10000.0| 29|   Finance|\n",
      "|   205|  Shelley|12008.0| 33|   Finance|   205|  Shelley|12008.0| 33|   Finance|\n",
      "|   206|  William| 8300.0| 37|        IT|   206|  William| 8300.0| 37|        IT|\n",
      "|   100|   Steven|24000.0| 39|        IT|   100|   Steven|24000.0| 39|        IT|\n",
      "|   101|    Neena|17000.0| 27|     Sales|   101|    Neena|17000.0| 27|     Sales|\n",
      "|   102|      Lex|17000.0| 37| Marketing|   102|      Lex|17000.0| 37| Marketing|\n",
      "|   103|Alexander| 9000.0| 39| Marketing|   103|Alexander| 9000.0| 39| Marketing|\n",
      "|   104|    Bruce| 6000.0| 38|        IT|   104|    Bruce| 6000.0| 38|        IT|\n",
      "|   105|    David| 4800.0| 39|        IT|   105|    David| 4800.0| 39|        IT|\n",
      "|   106|    Valli| 4800.0| 38|     Sales|   106|    Valli| 4800.0| 38|     Sales|\n",
      "|   107|    Diana| 4200.0| 35|     Sales|   107|    Diana| 4200.0| 35|     Sales|\n",
      "|   108|    Nancy|12008.0| 28|     Sales|   108|    Nancy|12008.0| 28|     Sales|\n",
      "|   109|   Daniel| 9000.0| 35|        HR|   109|   Daniel| 9000.0| 35|        HR|\n",
      "|   110|     John| 8200.0| 31| Marketing|   110|     John| 8200.0| 31| Marketing|\n",
      "+------+---------+-------+---+----------+------+---------+-------+---+----------+\n",
      "only showing top 20 rows\n",
      "\n"
     ]
    }
   ],
   "source": [
    "# Join the DataFrame with itself based on the \"Emp_No\" column\n",
    "\n",
    "joined_df = employees_df.alias(\"emp1\").join(\n",
    "    employees_df.alias(\"emp2\"),\n",
    "    on=col(\"emp1.Emp_No\") == col(\"emp2.Emp_No\"),\n",
    "    how=\"inner\"\n",
    ")\n",
    "\n",
    "# Display the joined DataFrame\n",
    "joined_df.show()\n"
   ]
  },
  {
   "cell_type": "markdown",
   "metadata": {},
   "source": [
    "#### Task 11: Calculate Average Employee Age\n",
    "\n",
    "Calculate the average age of employees using the built-in aggregation function. Display the result.\n"
   ]
  },
  {
   "cell_type": "code",
   "execution_count": 18,
   "metadata": {
    "tags": []
   },
   "outputs": [
    {
     "name": "stdout",
     "output_type": "stream",
     "text": [
      "+-----------+\n",
      "|Average_Age|\n",
      "+-----------+\n",
      "|      33.56|\n",
      "+-----------+\n",
      "\n"
     ]
    }
   ],
   "source": [
    "# Calculate the average age of employees\n",
    "from pyspark.sql.functions import avg \n",
    "spark.sql(\"SELECT AVG(Age) AS Average_Age FROM employees\").show()\n"
   ]
  },
  {
   "cell_type": "markdown",
   "metadata": {},
   "source": [
    "#### Task 12: Calculate Total Salary by Department\n",
    "\n",
    "Calculate the total salary for each department using the built-in aggregation function. Display the result.\n"
   ]
  },
  {
   "cell_type": "code",
   "execution_count": 19,
   "metadata": {
    "tags": []
   },
   "outputs": [
    {
     "name": "stderr",
     "output_type": "stream",
     "text": [
      "[Stage 14:==========================================>          (161 + 12) / 200]"
     ]
    },
    {
     "name": "stdout",
     "output_type": "stream",
     "text": [
      "+----------+------------+\n",
      "|Department|Total_Salary|\n",
      "+----------+------------+\n",
      "|   Finance|     57308.0|\n",
      "|        HR|     46700.0|\n",
      "|        IT|     74000.0|\n",
      "| Marketing|     59700.0|\n",
      "|     Sales|     71408.0|\n",
      "+----------+------------+\n",
      "\n"
     ]
    },
    {
     "name": "stderr",
     "output_type": "stream",
     "text": [
      "                                                                                \r"
     ]
    }
   ],
   "source": [
    "# Calculate the total salary for each department. Hint - User GroupBy and Aggregate functions\n",
    "from pyspark.sql.functions import sum \n",
    "spark.sql(\"SELECT Department, SUM(Salary) AS Total_Salary FROM employees GROUP BY Department ORDER BY Department ASC\").show()\n"
   ]
  },
  {
   "cell_type": "markdown",
   "metadata": {},
   "source": [
    "#### Task 13: Sort Data by Age and Salary\n",
    "\n",
    "Apply a transformation to sort the DataFrame by age in ascending order and then by salary in descending order. Display the sorted DataFrame.\n"
   ]
  },
  {
   "cell_type": "code",
   "execution_count": null,
   "metadata": {},
   "outputs": [],
   "source": [
    "# Sort the DataFrame by age in ascending order and then by salary in descending order\n"
   ]
  },
  {
   "cell_type": "markdown",
   "metadata": {},
   "source": [
    "#### Task 14: Count Employees in Each Department\n",
    "\n",
    "Calculate the number of employees in each department. Display the result.\n"
   ]
  },
  {
   "cell_type": "code",
   "execution_count": 20,
   "metadata": {
    "tags": []
   },
   "outputs": [
    {
     "name": "stdout",
     "output_type": "stream",
     "text": [
      "+------+---------+-------+---+----------+\n",
      "|Emp_No| Emp_Name| Salary|Age|Department|\n",
      "+------+---------+-------+---+----------+\n",
      "|   137|   Renske| 3600.0| 26| Marketing|\n",
      "|   101|    Neena|17000.0| 27|     Sales|\n",
      "|   114|      Den|11000.0| 27|   Finance|\n",
      "|   108|    Nancy|12008.0| 28|     Sales|\n",
      "|   130|    Mozhe| 2800.0| 28| Marketing|\n",
      "|   126|    Irene| 2700.0| 28|        HR|\n",
      "|   204|  Hermann|10000.0| 29|   Finance|\n",
      "|   115|Alexander| 3100.0| 29|   Finance|\n",
      "|   134|  Michael| 2900.0| 29|     Sales|\n",
      "|   198|   Donald| 2600.0| 29|        IT|\n",
      "|   140|   Joshua| 2500.0| 29|   Finance|\n",
      "|   136|    Hazel| 2200.0| 29|        IT|\n",
      "|   120|  Matthew| 8000.0| 30|        HR|\n",
      "|   110|     John| 8200.0| 31| Marketing|\n",
      "|   127|    James| 2400.0| 31|        HR|\n",
      "|   201|  Michael|13000.0| 32|        IT|\n",
      "|   111|   Ismael| 7700.0| 32|        IT|\n",
      "|   119|    Karen| 2500.0| 32|   Finance|\n",
      "|   205|  Shelley|12008.0| 33|   Finance|\n",
      "|   124|    Kevin| 5800.0| 33| Marketing|\n",
      "+------+---------+-------+---+----------+\n",
      "only showing top 20 rows\n",
      "\n"
     ]
    }
   ],
   "source": [
    "from pyspark.sql.functions import count\n",
    "\n",
    "# Calculate the number of employees in each department\n",
    "sorted_df = employees_df.orderBy([\"Age\", col(\"Salary\").desc()])\n",
    "sorted_df.show()\n"
   ]
  },
  {
   "cell_type": "markdown",
   "metadata": {},
   "source": [
    "#### Task 15: Filter Employees with the letter o in the Name\n",
    "\n",
    "Apply a filter to select records where the employee's name contains the letter `'o'`. Display the filtered DataFrame.\n"
   ]
  },
  {
   "cell_type": "code",
   "execution_count": 21,
   "metadata": {
    "tags": []
   },
   "outputs": [
    {
     "name": "stdout",
     "output_type": "stream",
     "text": [
      "+------+-----------+------+---+----------+\n",
      "|Emp_No|   Emp_Name|Salary|Age|Department|\n",
      "+------+-----------+------+---+----------+\n",
      "|   198|     Donald|2600.0| 29|        IT|\n",
      "|   199|    Douglas|2600.0| 34|     Sales|\n",
      "|   110|       John|8200.0| 31| Marketing|\n",
      "|   112|Jose Manuel|7800.0| 34|        HR|\n",
      "|   130|      Mozhe|2800.0| 28| Marketing|\n",
      "|   133|      Jason|3300.0| 38|     Sales|\n",
      "|   139|       John|2700.0| 36|     Sales|\n",
      "|   140|     Joshua|2500.0| 29|   Finance|\n",
      "+------+-----------+------+---+----------+\n",
      "\n"
     ]
    }
   ],
   "source": [
    "# Apply a filter to select records where the employee's name contains the letter 'o'\n",
    "filtered_df = employees_df.filter(employees_df.Emp_Name.contains(\"o\"))\n",
    "filtered_df.show()\n"
   ]
  },
  {
   "cell_type": "markdown",
   "metadata": {},
   "source": [
    "# Congratulations! You have completed the project.\n",
    "\n",
    "Now you know how to create a DataFrame from a CSV data file and perform a variety of DataFrame transformations and actions using Spark SQL.\n"
   ]
  },
  {
   "cell_type": "markdown",
   "metadata": {},
   "source": [
    "## Authors\n"
   ]
  },
  {
   "cell_type": "markdown",
   "metadata": {},
   "source": [
    "Raghul Ramesh\n"
   ]
  },
  {
   "cell_type": "markdown",
   "metadata": {},
   "source": [
    "Lavanya T S\n"
   ]
  },
  {
   "cell_type": "markdown",
   "metadata": {},
   "source": [
    "## Change Log\n"
   ]
  },
  {
   "cell_type": "markdown",
   "metadata": {},
   "source": [
    "|Date (YYYY-MM-DD)|Version|Changed By|Change Description|\n",
    "|-|-|-|-|\n",
    "|2023-09-01|0.1|Lavanya T S|Initial version|\n",
    "|2023-09-11|0.2|Pornima More|QA pass with edits|\n"
   ]
  },
  {
   "cell_type": "markdown",
   "metadata": {},
   "source": [
    "Copyright © 2023 IBM Corporation. All rights reserved.\n"
   ]
  }
 ],
 "metadata": {
  "kernelspec": {
   "display_name": "Python",
   "language": "python",
   "name": "conda-env-python-py"
  },
  "language_info": {
   "codemirror_mode": {
    "name": "ipython",
    "version": 3
   },
   "file_extension": ".py",
   "mimetype": "text/x-python",
   "name": "python",
   "nbconvert_exporter": "python",
   "pygments_lexer": "ipython3",
   "version": "3.7.12"
  }
 },
 "nbformat": 4,
 "nbformat_minor": 4
}
